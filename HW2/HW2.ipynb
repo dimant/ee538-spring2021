{
 "cells": [
  {
   "cell_type": "markdown",
   "metadata": {},
   "source": [
    "<center><b>EE 538 Spring 2021<br>\n",
    "Homework 2<br>\n",
    "</b></center>\n"
   ]
  },
  {
   "cell_type": "markdown",
   "metadata": {},
   "source": [
    "\\begin{equation}\n",
    "A_{ol}=\\frac{A_0}{1 + \\frac{s}{s_p}}\n",
    "\\end{equation}"
   ]
  },
  {
   "cell_type": "markdown",
   "metadata": {},
   "source": [
    "- $A_o$ open-loop DC gain\n",
    "- $s_p$ pole of open-loop transfer function of opamp; $\\omega_p=|s_p|$\n",
    "- $w_u=A_o \\times \\omega_p$\n"
   ]
  },
  {
   "cell_type": "markdown",
   "metadata": {},
   "source": [
    "\\begin{equation}\n",
    "\\frac{A_0}{1+\\frac{s}{s_p}} = \\frac{A_0 s_p}{s_p + s} = \\frac{\\omega_u}{s_p+s}\n",
    "\\end{equation}"
   ]
  },
  {
   "cell_type": "code",
   "execution_count": null,
   "metadata": {},
   "outputs": [],
   "source": []
  }
 ],
 "metadata": {
  "kernelspec": {
   "display_name": "Python 3",
   "language": "python",
   "name": "python3"
  },
  "language_info": {
   "codemirror_mode": {
    "name": "ipython",
    "version": 3
   },
   "file_extension": ".py",
   "mimetype": "text/x-python",
   "name": "python",
   "nbconvert_exporter": "python",
   "pygments_lexer": "ipython3",
   "version": "3.8.5"
  }
 },
 "nbformat": 4,
 "nbformat_minor": 4
}
