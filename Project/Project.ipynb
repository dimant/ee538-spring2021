{
 "cells": [
  {
   "cell_type": "markdown",
   "metadata": {
    "slideshow": {
     "slide_type": "-"
    }
   },
   "source": [
    "# Project"
   ]
  },
  {
   "cell_type": "markdown",
   "metadata": {
    "slideshow": {
     "slide_type": "-"
    }
   },
   "source": [
    "__Design Specifications__\n",
    "\n",
    "| Parameter                            | Specification   | Conditions | Unit |\n",
    "| :----------------                    | :------:        |:--------------|:--------------------: |\n",
    "| Transimpedance gain (full signal path)                        | $1$         |               | $V/\\mu A$ |\n",
    "| Transimpedance bandwidth ($f_{3dB}$)            | $1$             |               | $MHz$ |\n",
    "| Minimum photodiode current ($i_d$)                  | $2$         |               | $\\mu A$ | \n",
    "| Photodiode capacitance ($C_d$)              | $150$      |               | $pF$ |\n",
    "| Closed-loop gain magnitude peaking          | $0$      |               |$dB$|\n",
    "| $rms$ noise figure ($F = 1 + i_n^2/i_{ns}^2$)        | $\\leq 0.5$           |               | $dB$ |\n",
    "| Power dissipation ($I_{DD} \\cdot (V_{CC} + V_{EE}) $) | Optimize   |               |$mW$ |\n",
    "| Cost-per-unit (1000 units)          | Optimize       |               |$\\$$ |"
   ]
  },
  {
   "cell_type": "markdown",
   "metadata": {},
   "source": [
    "## Analysis"
   ]
  },
  {
   "cell_type": "markdown",
   "metadata": {},
   "source": [
    "### 1. Analysis"
   ]
  },
  {
   "cell_type": "markdown",
   "metadata": {},
   "source": [
    "A thorough analysis of your design, clearly demonstrating its capacity to meet the specifications. This primarily includes noise and AC analyses. Simulation results alone are not enough!"
   ]
  },
  {
   "cell_type": "code",
   "execution_count": 2,
   "metadata": {},
   "outputs": [],
   "source": [
    "import numpy as np"
   ]
  },
  {
   "cell_type": "markdown",
   "metadata": {},
   "source": [
    "Transimpedance gain: $ G = 1 / 1e^{-6} = 1M\\Omega$"
   ]
  },
  {
   "cell_type": "code",
   "execution_count": 4,
   "metadata": {},
   "outputs": [
    {
     "data": {
      "text/plain": [
       "'diode noise: 7.999999999999999e-13'"
      ]
     },
     "metadata": {},
     "output_type": "display_data"
    }
   ],
   "source": [
    "k = 1.38e-23                 # Boltzmann constant, J/K\n",
    "T = 300                      # room temperature (27C) in Kelvin\n",
    "q = 1.6e-19                  # charge of an electron\n",
    "kT = k*T\n",
    "\n",
    "diode_noise = np.sqrt(2 * q * 2e-6)\n",
    "display(f'diode noise: {diode_noise}')\n",
    "\n"
   ]
  },
  {
   "cell_type": "markdown",
   "metadata": {},
   "source": [
    "### 2. Noise"
   ]
  },
  {
   "cell_type": "markdown",
   "metadata": {},
   "source": [
    "Plots showing the predicted noise and gain/phase as functions of frequency (e.g. using Python)."
   ]
  },
  {
   "cell_type": "markdown",
   "metadata": {},
   "source": [
    "### 3. Schematic"
   ]
  },
  {
   "cell_type": "markdown",
   "metadata": {},
   "source": [
    "Complete schematic showing the transimpedance stage, any additional gain stages, supply voltages, opamp models, resistor values, and all branch currents and DC node voltages. Indicate the power dissipated by each amplifier by annotating the current through the positive supply pin."
   ]
  },
  {
   "cell_type": "markdown",
   "metadata": {},
   "source": [
    "### 4. Noise Contributions"
   ]
  },
  {
   "cell_type": "markdown",
   "metadata": {},
   "source": [
    "A table summarizing noise contributions from all devices (opamps, transistors, and resistors) and the calculated input-referred noise density and  𝑟𝑚𝑠  noise of each."
   ]
  },
  {
   "cell_type": "markdown",
   "metadata": {},
   "source": [
    "### 5. Bill of Materials"
   ]
  },
  {
   "cell_type": "markdown",
   "metadata": {},
   "source": [
    "A table listing components used, quantity, active power (if applicable) and cost for each item assuming a purchase quantity of 1000, in addition to the total cost and power. Include a link to a Digikey (or equivalent) listing for each component."
   ]
  },
  {
   "cell_type": "markdown",
   "metadata": {},
   "source": [
    "## Verification"
   ]
  },
  {
   "cell_type": "markdown",
   "metadata": {},
   "source": [
    "## 1. Noise Simulation"
   ]
  },
  {
   "cell_type": "markdown",
   "metadata": {},
   "source": [
    "Noise simulation result showing the input-referred noise noise from 0.01Hz to 100MHz and total  𝑟𝑚𝑠  noise. To plot the input-referred noise, divide the output voltage noise by the DC transimpedance gain value."
   ]
  },
  {
   "cell_type": "markdown",
   "metadata": {},
   "source": [
    "## 2. Frequency Response"
   ]
  },
  {
   "cell_type": "markdown",
   "metadata": {},
   "source": [
    "AC simulation result demonstrating the frequency response (gain and phase) of the entire circuit (0.01Hz to 100MHz), indicating the gain and phase at 1MHz."
   ]
  },
  {
   "cell_type": "markdown",
   "metadata": {},
   "source": [
    "## 3. Input Impedance"
   ]
  },
  {
   "cell_type": "markdown",
   "metadata": {},
   "source": [
    "AC simulation result showing the input impedance as a function of frequency from 0.01Hz to 100MHz."
   ]
  },
  {
   "cell_type": "markdown",
   "metadata": {},
   "source": [
    "## 4. Output Step Response"
   ]
  },
  {
   "cell_type": "markdown",
   "metadata": {},
   "source": [
    "Output step response for an input current step of  0  to  2𝜇𝐴 ."
   ]
  },
  {
   "cell_type": "markdown",
   "metadata": {},
   "source": [
    "## Discussion"
   ]
  },
  {
   "cell_type": "markdown",
   "metadata": {},
   "source": [
    "Include a discussion of major design tradeoffs, any insight you gained throughout the design process, and possible suggestions for improving the architecture."
   ]
  },
  {
   "cell_type": "code",
   "execution_count": null,
   "metadata": {},
   "outputs": [],
   "source": []
  }
 ],
 "metadata": {
  "celltoolbar": "Slideshow",
  "kernelspec": {
   "display_name": "Python 3",
   "language": "python",
   "name": "python3"
  },
  "language_info": {
   "codemirror_mode": {
    "name": "ipython",
    "version": 3
   },
   "file_extension": ".py",
   "mimetype": "text/x-python",
   "name": "python",
   "nbconvert_exporter": "python",
   "pygments_lexer": "ipython3",
   "version": "3.8.5"
  }
 },
 "nbformat": 4,
 "nbformat_minor": 4
}
