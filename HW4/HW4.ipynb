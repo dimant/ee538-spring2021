{
 "cells": [
  {
   "cell_type": "markdown",
   "metadata": {},
   "source": [
    "### HW4"
   ]
  },
  {
   "cell_type": "markdown",
   "metadata": {},
   "source": [
    "__a)__\n",
    "\n",
    "\\begin{equation}\n",
    "I_d = \\beta(V_{gs} - V_{th})^2 \\\\\n",
    "\\beta = \\frac{I_{DSS}}{V_{th}^2} \\\\\n",
    "g_m = 2\\cdot\\sqrt{\\beta I_D} \\\\\n",
    "I_{D} = 2mA, I_G = 2pA, R_D = 4k\\Omega,\\beta = 24 mA/V^2, V_{gs} - V_{th} = 0.29V\n",
    "\\end{equation}"
   ]
  },
  {
   "cell_type": "markdown",
   "metadata": {},
   "source": [
    "\\begin{equation}\n",
    "G = g_m ( R_D || r_o) \\approx g_m R_D\n",
    "\\end{equation}"
   ]
  },
  {
   "cell_type": "code",
   "execution_count": 90,
   "metadata": {},
   "outputs": [
    {
     "data": {
      "text/plain": [
       "'I_d 0.0020184 V_out -8.0736 G 55.42562584220408'"
      ]
     },
     "metadata": {},
     "output_type": "display_data"
    },
    {
     "data": {
      "text/plain": [
       "'e_n 9.046026041758245e-10 i_n 8.004998438475799e-16'"
      ]
     },
     "metadata": {},
     "output_type": "display_data"
    }
   ],
   "source": [
    "import numpy as np\n",
    "\n",
    "q = 1.602e-19\n",
    "kT = 1.38e-23*300\n",
    "\n",
    "I_D = 2e-3\n",
    "I_G = 2e-12\n",
    "R_D = 4e3\n",
    "beta = 24e-3\n",
    "V_gs_th = 0.29\n",
    "\n",
    "g_m = 2 * np.sqrt(beta * I_D)\n",
    "\n",
    "I_d = beta * V_gs_th ** 2\n",
    "V_out = - I_d * R_D\n",
    "G = g_m * R_D\n",
    "display(f'I_d {I_d} V_out {V_out} G {G}')\n",
    "\n",
    "# R_D thermal voltage noise, input refer by /G\n",
    "e2_nR_D = 4 * kT * R_D\n",
    "\n",
    "# i_nd channel thermal current noise turns into voltage noise via R_D, input refer by /G\n",
    "i2_nd = 4 * kT * g_m * 2 / 3\n",
    "e2_nd = i2_nd * R_D**2\n",
    "\n",
    "e2_n = (e2_nR_D + e2_nd) / G**2\n",
    "\n",
    "# i_ng gate current shot noise\n",
    "i2_ng = 2 * q * I_G\n",
    "i2_n = i2_ng\n",
    "\n",
    "display(f'e_n {np.sqrt(e2_n)} i_n {np.sqrt(i2_n)}')"
   ]
  },
  {
   "cell_type": "markdown",
   "metadata": {},
   "source": [
    "__b)__\n",
    "\\begin{equation}\n",
    "i_{nf}^2 = \\frac{K_f\\cdot I_D}{f} \\\\\n",
    "K_f = 0.0021 fA\n",
    "\\end{equation}"
   ]
  },
  {
   "cell_type": "markdown",
   "metadata": {},
   "source": [
    "\\begin{equation}\n",
    "i^2_{nd} = 4kTg_m \\frac{2}{3}\n",
    "\\end{equation}"
   ]
  },
  {
   "cell_type": "markdown",
   "metadata": {},
   "source": [
    "\\begin{equation}\n",
    "\\frac{K_f\\cdot I_D}{f} = 4kTg_m \\frac{2}{3} \\\\\n",
    "\\frac{K_f\\cdot I_D}{4kTg_m \\frac{2}{3}} = f\n",
    "\\end{equation}"
   ]
  },
  {
   "cell_type": "code",
   "execution_count": 92,
   "metadata": {},
   "outputs": [
    {
     "data": {
      "text/plain": [
       "27.4555155185284"
      ]
     },
     "execution_count": 92,
     "metadata": {},
     "output_type": "execute_result"
    }
   ],
   "source": [
    "K_f = 0.0021e-15\n",
    "\n",
    "f_c = K_f * I_D / (4 * kT * g_m * 2 / 3)\n",
    "\n",
    "f_c"
   ]
  },
  {
   "cell_type": "markdown",
   "metadata": {},
   "source": [
    "__c)__"
   ]
  },
  {
   "cell_type": "code",
   "execution_count": 103,
   "metadata": {},
   "outputs": [
    {
     "data": {
      "text/plain": [
       "'gain=34.874212113594744dB e_n=1.0215007936764824e-09'"
      ]
     },
     "metadata": {},
     "output_type": "display_data"
    }
   ],
   "source": [
    "R_S = 100e3\n",
    "f = 100\n",
    "\n",
    "# R_D thermal voltage noise, input refer by /G\n",
    "e2_nR_D = 4 * kT * R_D\n",
    "\n",
    "# i_nd channel thermal current noise turns into voltage noise via R_D, input refer by /G\n",
    "i2_nd = 4 * kT * g_m * 2 / 3\n",
    "e2_nd = i2_nd * R_D**2\n",
    "\n",
    "# i_ng gate current shot noise turns into voltage noise via R_S\n",
    "i2_ng = 2 * q * I_G\n",
    "e2_ng = i2_ng * R_S**2\n",
    "\n",
    "# frequency dependent flicker noise, turns into voltage noise via R_D, input refer by /G\n",
    "i2_nf = K_f * I_D / f\n",
    "e2_nf = i2_nf * R_D**2\n",
    "\n",
    "e2_n = ((e2_nR_D + e2_nd + e2_nf) / G**2) + e2_ng\n",
    "\n",
    "gain = 20 * np.log10(G)\n",
    "\n",
    "display(f'gain={gain}dB e_n={np.sqrt(e2_n)}')"
   ]
  },
  {
   "cell_type": "code",
   "execution_count": null,
   "metadata": {},
   "outputs": [],
   "source": []
  }
 ],
 "metadata": {
  "kernelspec": {
   "display_name": "Python 3",
   "language": "python",
   "name": "python3"
  },
  "language_info": {
   "codemirror_mode": {
    "name": "ipython",
    "version": 3
   },
   "file_extension": ".py",
   "mimetype": "text/x-python",
   "name": "python",
   "nbconvert_exporter": "python",
   "pygments_lexer": "ipython3",
   "version": "3.8.5"
  }
 },
 "nbformat": 4,
 "nbformat_minor": 4
}
