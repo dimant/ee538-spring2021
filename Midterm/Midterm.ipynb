{
 "cells": [
  {
   "cell_type": "markdown",
   "metadata": {},
   "source": [
    "### Midterm"
   ]
  },
  {
   "cell_type": "markdown",
   "metadata": {},
   "source": [
    "__1.a)__ Noise Figure: $3dB$"
   ]
  },
  {
   "cell_type": "code",
   "execution_count": 2,
   "metadata": {},
   "outputs": [
    {
     "data": {
      "text/plain": [
       "1.9952623149688795"
      ]
     },
     "execution_count": 2,
     "metadata": {},
     "output_type": "execute_result"
    }
   ],
   "source": [
    "F = 10 ** (3/10)\n",
    "\n",
    "F"
   ]
  },
  {
   "cell_type": "markdown",
   "metadata": {},
   "source": [
    "$F \\approx 2$"
   ]
  },
  {
   "cell_type": "markdown",
   "metadata": {},
   "source": [
    "\\begin{equation}\n",
    "F = \\dfrac{e_{ns}^2 + e_n^2 + R_s^2 i_n^2}{e_{ns}^2}\n",
    "\\end{equation}"
   ]
  },
  {
   "cell_type": "markdown",
   "metadata": {},
   "source": [
    "\\begin{equation}\n",
    "e^2_{ns} = 4 k T R_s \\\\\n",
    "4 k T R_s = \\frac{e^2_n + R^2_s i^2_n}{F-1}\n",
    "\\end{equation}"
   ]
  },
  {
   "cell_type": "markdown",
   "metadata": {},
   "source": [
    "\\begin{equation}\n",
    "F-1 = 2 - 1 = 1 \\\\\n",
    "400 k T  = e^2_n + 100^2 i^2_n \\\\\n",
    "400 k T - 100^2 i^2_n = e^2_n \\\\\n",
    "40000 k T = e^2_n + 10000^2 i^2_n \\\\\n",
    "40000 k T = 400 k T -100^2 i^2_n + 10000^2 i^2_n \\\\\n",
    "(40000-400)kT = i^2_n(10000^2-100^2) \\\\\n",
    "\\frac{(40000-400)kT}{(10000^2-100^2)}=i^2_n\n",
    "\\end{equation}"
   ]
  },
  {
   "cell_type": "code",
   "execution_count": 3,
   "metadata": {},
   "outputs": [
    {
     "data": {
      "text/plain": [
       "'i_n2 1.2804702106632703e-12 e_n2 1.2804702106632704e-09'"
      ]
     },
     "metadata": {},
     "output_type": "display_data"
    }
   ],
   "source": [
    "import numpy as np\n",
    "\n",
    "k = 1.38e-23\n",
    "T = 300\n",
    "kT = k * T\n",
    "\n",
    "i_n2 = (40000-400)*k*T/(10000**2-100**2)\n",
    "e_n2 = 400*k*T - 100**2*i_n2\n",
    "\n",
    "display(f'i_n2 {np.sqrt(i_n2)} e_n2 {np.sqrt(e_n2)}')"
   ]
  },
  {
   "cell_type": "markdown",
   "metadata": {},
   "source": [
    "__1.b)__"
   ]
  },
  {
   "cell_type": "code",
   "execution_count": 4,
   "metadata": {},
   "outputs": [
    {
     "data": {
      "text/plain": [
       "1000.0000000000001"
      ]
     },
     "execution_count": 4,
     "metadata": {},
     "output_type": "execute_result"
    }
   ],
   "source": [
    "R_opt = np.sqrt(e_n2/i_n2)\n",
    "\n",
    "R_opt"
   ]
  },
  {
   "cell_type": "code",
   "execution_count": 5,
   "metadata": {},
   "outputs": [
    {
     "data": {
      "text/plain": [
       "'F_min 1.099108910891089 N_min 0.41040728870705223dB'"
      ]
     },
     "metadata": {},
     "output_type": "display_data"
    }
   ],
   "source": [
    "e_nmin2 = 4*k*T*R_opt + e_n2 + i_n2 * R_opt\n",
    "F_min = e_nmin2/(4*k*T*R_opt)\n",
    "N_min = 10 * np.log10(F_min)\n",
    "\n",
    "display(f'F_min {F_min} N_min {N_min}dB')"
   ]
  },
  {
   "cell_type": "markdown",
   "metadata": {},
   "source": [
    "__1.c)__"
   ]
  },
  {
   "cell_type": "code",
   "execution_count": 6,
   "metadata": {},
   "outputs": [
    {
     "data": {
      "text/plain": [
       "'F_tot 12.09019801980198 NF_tot 10.824334140289302dB'"
      ]
     },
     "metadata": {},
     "output_type": "display_data"
    }
   ],
   "source": [
    "f_c = 1000\n",
    "f = 100\n",
    "e_n2_tot = e_nmin2*(1+f_c/f)   # total noise voltage density\n",
    "\n",
    "F_tot = e_n2_tot / (4*k*T*R_opt)\n",
    "\n",
    "NF_tot = 10 * np.log10(F_tot)\n",
    "\n",
    "display(f'F_tot {F_tot} NF_tot {NF_tot}dB')"
   ]
  },
  {
   "cell_type": "markdown",
   "metadata": {},
   "source": [
    "__2.a)__"
   ]
  },
  {
   "cell_type": "code",
   "execution_count": 7,
   "metadata": {},
   "outputs": [
    {
     "data": {
      "text/plain": [
       "'R_opt_a 1000.0000000000001 R_opt_b 10000.0'"
      ]
     },
     "metadata": {},
     "output_type": "display_data"
    }
   ],
   "source": [
    "e_na_a = 10e-9\n",
    "i_na_a = 10e-12\n",
    "R_opt_a = e_na_a / i_na_a\n",
    "\n",
    "e_na_b = 5e-9\n",
    "i_na_b = 0.5e-12\n",
    "R_opt_b = e_na_b / i_na_b\n",
    "\n",
    "display(f'R_opt_a {R_opt_a} R_opt_b {R_opt_b}')"
   ]
  },
  {
   "cell_type": "markdown",
   "metadata": {},
   "source": [
    "R_opt_a happens to be $1k\\Omega$ which is $R_s$ so I would choose opamp A to minimize the noise figure. However this decision would not be fully informed without considering the total noise."
   ]
  },
  {
   "cell_type": "markdown",
   "metadata": {},
   "source": [
    "__2.b)__\n",
    "\n",
    "- Noise from $R_i$ sees the structure as an inverting amplifier. \n",
    "- Noise from $R_f$ appears unamplified at the output.\n",
    "- Voltage noise from the opamp sees the structure as a non-inverting amplifier.\n",
    "- Current noise from the amplifier manifests as voltage through $R_f$\n",
    "- Noise from the source sees the structure as a non-inverting amplifier.\n",
    "- Since in practice this is a non-inverting amplifier, we input refer by $1 + \\frac{R_f}{R_i}$\n",
    "\n"
   ]
  },
  {
   "cell_type": "code",
   "execution_count": 8,
   "metadata": {},
   "outputs": [
    {
     "data": {
      "text/plain": [
       "'e_n_Ri_out 2.5897490225888686e-08'"
      ]
     },
     "metadata": {},
     "output_type": "display_data"
    },
    {
     "data": {
      "text/plain": [
       "'e_n_Rf_out 8.632496741962896e-09'"
      ]
     },
     "metadata": {},
     "output_type": "display_data"
    },
    {
     "data": {
      "text/plain": [
       "'e_na_c_out 2e-08'"
      ]
     },
     "metadata": {},
     "output_type": "display_data"
    },
    {
     "data": {
      "text/plain": [
       "'e_na_c_i_out 4.5e-09'"
      ]
     },
     "metadata": {},
     "output_type": "display_data"
    },
    {
     "data": {
      "text/plain": [
       "'e_ns_out 4.0693979898751605e-08'"
      ]
     },
     "metadata": {},
     "output_type": "display_data"
    },
    {
     "data": {
      "text/plain": [
       "'e_n_tot_out 5.311732297471325e-08'"
      ]
     },
     "metadata": {},
     "output_type": "display_data"
    },
    {
     "data": {
      "text/plain": [
       "'F 1.3052870008505304 NF 1.157060129629692dB'"
      ]
     },
     "metadata": {},
     "output_type": "display_data"
    }
   ],
   "source": [
    "e_na_c = 2e-9\n",
    "i_na_c = 1e-12\n",
    "R_i = 500\n",
    "R_f = 4500\n",
    "R_s = 1000\n",
    "\n",
    "e_ns2 = 4 * kT * R_s\n",
    "\n",
    "e_n_Ri = np.sqrt(4*kT*R_i)\n",
    "e_n_Rf = np.sqrt(4*kT*R_f)\n",
    "\n",
    "e_n_Ri_out = (R_f / R_i) * e_n_Ri  # noise doesn't care about sign, so drop '-'\n",
    "e_n_Rf_out = e_n_Rf\n",
    "e_na_c_out = (1+ R_f/R_i) * e_na_c\n",
    "e_na_c_i_out = R_f*i_na_c\n",
    "e_ns_out = (1+ R_f/R_i) * np.sqrt(4*kT*R_s)\n",
    "\n",
    "e_n_tot_out = np.sqrt(e_n_Ri_out**2 + e_n_Rf_out**2 + e_na_c_out**2 + e_na_c_i_out**2 + e_ns_out**2)\n",
    "F = e_n_tot_out / e_ns_out\n",
    "\n",
    "NF = 10 * np.log10(F)\n",
    "\n",
    "display(f'e_n_Ri_out {e_n_Ri_out}')\n",
    "display(f'e_n_Rf_out {e_n_Rf_out}')\n",
    "display(f'e_na_c_out {e_na_c_out}')\n",
    "display(f'e_na_c_i_out {e_na_c_i_out}')\n",
    "display(f'e_ns_out {e_ns_out}')\n",
    "display(f'e_n_tot_out {e_n_tot_out}')\n",
    "display(f'F {F} NF {NF}dB')"
   ]
  },
  {
   "cell_type": "markdown",
   "metadata": {},
   "source": [
    "__2.c)__"
   ]
  },
  {
   "cell_type": "markdown",
   "metadata": {},
   "source": [
    "References:\n",
    "- [Renesas OpAmp application note](https://www.renesas.com/us/en/document/apn/r13an0010-noise-calculations-op-amp-circuits?language=en)\n",
    "- [Analog OpAmp Noise Relationships](https://www.analog.com/media/en/training-seminars/tutorials/MT-048.pdf)\n"
   ]
  },
  {
   "cell_type": "markdown",
   "metadata": {},
   "source": [
    "\\begin{equation}\n",
    "SNR = 20 \\log_{10}\\dfrac{v_{sig(rms)}}{v_{n,in(rms)}}\n",
    "\\end{equation}\n"
   ]
  },
  {
   "cell_type": "markdown",
   "metadata": {},
   "source": [
    "$$f_H = \\frac{f_T}{G_n}$$"
   ]
  },
  {
   "cell_type": "markdown",
   "metadata": {},
   "source": [
    "Where $G_n$ is the noise gain $1+\\frac{R_f}{R_i}$"
   ]
  },
  {
   "cell_type": "markdown",
   "metadata": {},
   "source": [
    "The total rms noise will be the sum of two integrals: 1/f noise integrated from $1Hz$ to $f_c$ and white noise integrated from $f_c$ to $f_{H}$. The input signal is sinusoid. As such, its rms value does not depend on frequency and is simply $v_a \\frac{1}{\\sqrt{2}}$. One takeaway from the signal frequency is, unless the OpAmp has a very low open loop gain, the signal will not be attenuated by the bandwidth limit of the OpAmp.\n",
    "\n",
    "Note that a simplifying assumption is made that we only consider noise from 1Hz upwards as in the lecture example. Without doing this, the integral for the flicker noise evaluates to $\\infty$"
   ]
  },
  {
   "cell_type": "markdown",
   "metadata": {},
   "source": [
    "\\begin{equation}\n",
    "e^2_{nf} = e_n^2 \\frac{f_c}{f} \\\\\n",
    "v^2_{nf,rms} = \\int^{f_c}_1 e_n^2 \\frac{f_c}{f} df \\\\\n",
    "v_{nf,rms} = e_n \\sqrt{f_c} \\sqrt{\\int^{f_c}_1 \\frac{1}{f}} df \\\\\n",
    "v_{nf,rms} = e_n \\sqrt{f_c} \\sqrt{ln \\frac{f_c}{1}}\n",
    "\\end{equation}"
   ]
  },
  {
   "cell_type": "markdown",
   "metadata": {},
   "source": [
    "\\begin{equation}\n",
    "v_{nw,rms} = \\sqrt{e^2_n f_H} = e_{n}\\sqrt{f_H-f_c}\n",
    "\\end{equation}"
   ]
  },
  {
   "cell_type": "markdown",
   "metadata": {},
   "source": [
    "\\begin{equation}\n",
    "v_{n,rms} = \\sqrt{e^2_n f_c ln(f_c) + e^2_n (f_H-f_c)} = \\sqrt{e^2_n (f_c ln(f_c) + (f_H-f_c))}\\\\\n",
    "v_{n,in(rms)} = \\sqrt{\\frac{e^2_n (f_c ln(f_c) + (f_H-f_c))}{G^2_n}}\\\\\n",
    "v_{n,in(rms)} = \\frac{e_n}{G_n}\\sqrt{f_c ln(f_c) + (f_H-f_c)}\n",
    "\\end{equation}"
   ]
  },
  {
   "cell_type": "code",
   "execution_count": 9,
   "metadata": {},
   "outputs": [
    {
     "data": {
      "text/plain": [
       "'G_n 10.0'"
      ]
     },
     "metadata": {},
     "output_type": "display_data"
    },
    {
     "data": {
      "text/plain": [
       "'e_n_tot_out 5.311732297471325e-08'"
      ]
     },
     "metadata": {},
     "output_type": "display_data"
    },
    {
     "data": {
      "text/plain": [
       "'v_nf_rms 1.6120333384428565e-05'"
      ]
     },
     "metadata": {},
     "output_type": "display_data"
    },
    {
     "data": {
      "text/plain": [
       "'v_n_in_rms 5.525486990686995e-06'"
      ]
     },
     "metadata": {},
     "output_type": "display_data"
    },
    {
     "data": {
      "text/plain": [
       "'v_in_rms 0.0007071067811865475'"
      ]
     },
     "metadata": {},
     "output_type": "display_data"
    },
    {
     "data": {
      "text/plain": [
       "'SNR 42.142288828624dB'"
      ]
     },
     "metadata": {},
     "output_type": "display_data"
    }
   ],
   "source": [
    "f_T = 10e6\n",
    "G_n = 1 + R_f/R_i\n",
    "f_H = f_T / G_n\n",
    "f_c = 10e3\n",
    "v_a = 1e-3\n",
    "\n",
    "v_nf_rms = e_n_tot_out * np.sqrt(f_c) * np.sqrt(np.log(f_c))\n",
    "v_n_in_rms = (e_n_tot_out / G_n) * np.sqrt(f_c * np.log(f_c) + f_H - f_c)\n",
    "v_in_rms = v_a / np.sqrt(2)\n",
    "\n",
    "SNR = 20 * np.log10(v_in_rms/v_n_in_rms)\n",
    "\n",
    "display(f'G_n {G_n}')\n",
    "display(f'e_n_tot_out {e_n_tot_out}')\n",
    "display(f'v_nf_rms {v_nf_rms}')\n",
    "display(f'v_n_in_rms {v_n_in_rms}')\n",
    "display(f'v_in_rms {v_in_rms}')\n",
    "display(f'SNR {SNR}dB')"
   ]
  },
  {
   "cell_type": "markdown",
   "metadata": {},
   "source": [
    "__3.a)__\n",
    "\n",
    "Assuming for a moment that the noise due to the BJT stage is $0$. Since it will be $1\\%$ in part c), this is a reasonable assumption."
   ]
  },
  {
   "cell_type": "markdown",
   "metadata": {},
   "source": [
    "$$e^2_{nd} = 4kT\\frac{2}{3}\\frac{1}{g_m}$$\n"
   ]
  },
  {
   "cell_type": "code",
   "execution_count": 11,
   "metadata": {},
   "outputs": [
    {
     "data": {
      "text/plain": [
       "'g_m / I_D = 3.0666666666666664'"
      ]
     },
     "metadata": {},
     "output_type": "display_data"
    }
   ],
   "source": [
    "e_n = 3e-9\n",
    "I_D = 400e-6\n",
    "e_n2 = e_n**2\n",
    "g_m = 8*kT/3/e_n2\n",
    "g_m_over_I_D = g_m / I_D\n",
    "\n",
    "display(f'g_m / I_D = {g_m_over_I_D}')"
   ]
  },
  {
   "cell_type": "markdown",
   "metadata": {},
   "source": [
    "__3.b)__"
   ]
  },
  {
   "cell_type": "markdown",
   "metadata": {},
   "source": [
    "\\begin{equation}\n",
    "A_v =  g_m R_D \\\\\n",
    "R_D = \\frac{A_v}{g_m}\n",
    "\\end{equation}"
   ]
  },
  {
   "cell_type": "markdown",
   "metadata": {},
   "source": [
    "\\begin{equation}\n",
    "e^2_n = \\frac{i^2_{nd}}{g^2_m} + \\frac{e^2_{nRD}}{A^2_v} \\\\\n",
    "e^2_{nd} = 4kT\\frac{2}{3}\\frac{1}{g_m} = \\frac{i^2_{nd}}{g^2_m}\\\\\n",
    "e^2_{nRD} = 4kTR_D\n",
    "\\end{equation}"
   ]
  },
  {
   "cell_type": "markdown",
   "metadata": {},
   "source": [
    "\\begin{equation}\n",
    "e^2_n = \\frac{8kT}{3g_m} + \\frac{4kTR_D}{A^2_v} \\\\\n",
    "e^2_n = \\frac{8kT}{3g_m} + \\frac{4kTR_D}{A^2_v} \\\\\n",
    "e^2_n = \\frac{8kT}{3g_m} + \\frac{4kT}{A^2_v} \\frac{A_v}{g_m}\\\\\n",
    "e^2_n = \\frac{8kT}{3g_m} + \\frac{4kT}{A_vg_m}\\\\\n",
    "e^2_n = \\frac{1}{g_m}\\left( \\frac{8kT}{3} + \\frac{4kT}{A_v}\\right)\\\\\n",
    "g_m = \\frac{4kT}{e^2_n}\\left( \\frac{2}{3} + \\frac{1}{A_v}\\right)\n",
    "\\end{equation}"
   ]
  },
  {
   "cell_type": "code",
   "execution_count": 23,
   "metadata": {},
   "outputs": [
    {
     "data": {
      "text/plain": [
       "'I_D 0.00414 R_D 787.6496534341527 V_DD 3.260869565217392'"
      ]
     },
     "metadata": {},
     "output_type": "display_data"
    }
   ],
   "source": [
    "e_n = 1e-9\n",
    "A_v = 10**(20/20)\n",
    "gamma = 2/3\n",
    "g_m = (4 * kT / e_n**2)*(gamma + 1/A_v)\n",
    "\n",
    "I_D = g_m / g_m_over_I_D\n",
    "R_D = A_v / g_m\n",
    "V_DD = I_D*R_D\n",
    "\n",
    "display(f'I_D {I_D} R_D {R_D} V_DD {V_DD}')"
   ]
  },
  {
   "cell_type": "markdown",
   "metadata": {},
   "source": [
    "__3.c)__"
   ]
  },
  {
   "cell_type": "markdown",
   "metadata": {},
   "source": [
    "\\begin{equation}\n",
    "\\beta = 200 \\rightarrow I_E = I_C + I_B = I_C + \\frac{I_C}{\\beta}\\approx I_C\\\\\n",
    "v_{out} = g_m v_{in} R_C \\\\\n",
    "g_m = \\frac{I_C}{V_T} \\\\\n",
    "R_C = \\frac{V_{EE}}{I_C}\\\\\n",
    "A_v = \\frac{v_{out}}{v_{in}} = \\frac{g_m v_{in} R_C}{v_{in}} = g_m R_C = \\frac{I_CR_C}{V_T} = \\frac{I_C\\frac{V_{EE}}{I_C}}{V_T} = \\frac{V_{EE}}{V_T}\\\\\n",
    "V_{EE} = A_v V_T\\\\\n",
    "i^2_{nc} = 2 q I_C \\\\\n",
    "e^2_{nR_C} = 4 k T R_C = 4 k T \\frac{V_{EE}}{I_C} \\\\\n",
    "e^2_n = \\frac{i^2_{nc}}{g^2_m} + \\frac{e^2_{nR_C}}{A^2_v} \\\\\n",
    "e^2_n = \\frac{2 q I_C}{\\frac{I^2_C}{V^2_T}} + \\frac{4 k T}{\\frac{V^2_{EE}}{V^2_T}}\\frac{V_{EE}}{I_C}\n",
    "\\end{equation}"
   ]
  },
  {
   "cell_type": "markdown",
   "metadata": {},
   "source": [
    "\\begin{equation}\n",
    "e^2_n = \\frac{2qV^2_T}{I_C} + \\frac{4kTV^2_T}{V_{EE}I_C}\\\\\n",
    "\\frac{e^2_n}{2V^2_T} = \\frac{1}{I_C}\\left(q + \\frac{2kT}{V_{EE}} \\right)\\\\\n",
    "I_C= \\frac{2V^2_T}{e^2_n}\\left(q + \\frac{2kT}{V_{EE}} \\right)  \\\\\n",
    "\\end{equation}"
   ]
  },
  {
   "cell_type": "code",
   "execution_count": 30,
   "metadata": {},
   "outputs": [
    {
     "data": {
      "text/plain": [
       "'I_C 0.000257094 R_C 1006.4412238325284'"
      ]
     },
     "metadata": {},
     "output_type": "display_data"
    }
   ],
   "source": [
    "k = 1.38e-23    # Boltzmann constant (physical constant)\n",
    "T = 300         # absolute temperature\n",
    "q = 1.6e-19     # charge of an electron \n",
    "V_T = k*T/q     # thermal voltage\n",
    "e_nbjt = 1e-9\n",
    "\n",
    "A_v = 10 **(20/20) # 20dB = 1:10\n",
    "V_EE = A_v * V_T\n",
    "\n",
    "I_C = (q + 2 * kT / V_EE) * 2 * V_T**2 / e_nbjt**2\n",
    "R_C = V_EE / I_C\n",
    "\n",
    "display(f'I_C {I_C} R_C {R_C}')"
   ]
  },
  {
   "cell_type": "markdown",
   "metadata": {},
   "source": [
    "Second approach without using $V_{DD}$:"
   ]
  },
  {
   "cell_type": "markdown",
   "metadata": {},
   "source": [
    "\\begin{equation}\n",
    "v_{out} = g_m v_{in} R_C \\\\\n",
    "g_m = \\frac{I_C}{V_T} \\\\\n",
    "A_v = \\frac{v_{out}}{v_{in}} = \\frac{g_m v_{in} R_C}{v_{in}} = g_m R_C = \\frac{I_CR_C}{V_T}\\\\\n",
    "I_C = \\frac{A_vV_T}{R_C}\\\\\n",
    "g_m = \\frac{A_vV_T}{R_C}\\frac{1}{V_T} = \\frac{A_v}{R_C}\\\\\n",
    "i^2_{nc} = 2 q I_C \\\\\n",
    "e^2_{nR_C} = 4 k T R_C \\\\\n",
    "e^2_n = \\frac{i^2_{nc}}{g^2_m} + \\frac{e^2_{nR_C}}{A^2_v} \\\\\n",
    "\\end{equation}"
   ]
  },
  {
   "cell_type": "markdown",
   "metadata": {},
   "source": [
    "\\begin{equation}\n",
    "e^2_n = 2 q \\frac{A_vV_T}{R_C} \\frac{R^2_C}{A^2_v} + \\frac{4kTR_C}{A^2_v} = 2 q \\frac{R_CV_T}{A_v} + \\frac{4kTR_C}{A^2_v}\\\\\n",
    "e^2_n = \\frac{2R_C}{A_v} \\left(qV_T + \\frac{2kT}{A_v} \\right) \\\\\n",
    "\\frac{e^2_n A_v}{2} = R_C \\left(qV_T + \\frac{2kT}{A_v} \\right) \\\\\n",
    "R_C = \\frac{e^2_n A_v}{2qV_T + \\frac{4kT}{A_v}}\n",
    "\\end{equation}"
   ]
  },
  {
   "cell_type": "code",
   "execution_count": 32,
   "metadata": {},
   "outputs": [
    {
     "data": {
      "text/plain": [
       "'I_C 0.00025709400000000003 R_C 1006.4412238325283'"
      ]
     },
     "metadata": {},
     "output_type": "display_data"
    }
   ],
   "source": [
    "R_C = e_nbjt**2 * A_v / (2 * q * V_T + 4 * kT / A_v)\n",
    "I_C = A_v * V_T / R_C\n",
    "\n",
    "display(f'I_C {I_C} R_C {R_C}')"
   ]
  },
  {
   "cell_type": "markdown",
   "metadata": {},
   "source": [
    "__4.a)__"
   ]
  },
  {
   "cell_type": "markdown",
   "metadata": {},
   "source": [
    "The problem calls for using unbalanced operation for the noise analysis. I am interpreting this to mean: use unbalanced operation for small signal analysis but balanced operation for DC analysis is allowed."
   ]
  },
  {
   "cell_type": "markdown",
   "metadata": {},
   "source": [
    "\\begin{equation}\n",
    "\\frac{g_m}{I_D} = \\frac{g_m}{I_{TAIL} / 2} \\\\\n",
    "g_m = \\frac{g_m}{I_D}\\frac{2} {I_{TAIL}}\n",
    "\\end{equation}"
   ]
  },
  {
   "cell_type": "markdown",
   "metadata": {},
   "source": [
    "Using [T model](https://leachlegacy.ece.gatech.edu/ece3050/notes/jfet/thejfet.pdf) instead of hybrid $\\pi$ model seems easier for this amplifier."
   ]
  },
  {
   "attachments": {
    "image-2.png": {
     "image/png": "[encoded data removed]"
    }
   },
   "cell_type": "markdown",
   "metadata": {},
   "source": [
    "![image-3.png](attachment:image-2.png)"
   ]
  },
  {
   "cell_type": "markdown",
   "metadata": {},
   "source": [
    "\\begin{equation}\n",
    "v_{out} = i_{R_{D_2}} R_{D_2} \\\\\n",
    "i_{R_{D_2}} = i_{D_2} = i_{S_2} \\\\\n",
    "i_{S_2} = \\frac{v_{in}}{\\frac{2}{g_m} + R_{S_1} + R_{S_2}} \\\\\n",
    "v_{out} = \\frac{v_{in}R_{D_2}}{\\frac{2}{g_m} + R_{S_1} + R_{S_2}} \\\\\n",
    "A_{v_2} = \\frac{v_{out}}{v_{in}} = \\frac{R_{D_2}}{\\frac{2}{g_m} + R_{S_1} + R_{S_2}}\n",
    "\\end{equation}"
   ]
  },
  {
   "cell_type": "markdown",
   "metadata": {},
   "source": [
    "\\begin{equation}\n",
    "v_{D_1} = i_{R_{D_1}}R_{D_1}\\\\\n",
    "i_{R_{D_1}} = i_{D_1} = i_{S_1} = \\frac{v_{in}}{\\frac{2}{g_m} + R_{S_1} + R_{S_2}}\\\\\n",
    "v_{D_1} = \\frac{v_{in}R_{D_1}}{\\frac{2}{g_m} + R_{S_1} + R_{S_2}}\\\\\n",
    "A_{v_1}=\\frac{v_{D_1}}{v_{in}} = \\frac{R_{D_1}}{\\frac{2}{g_m} + R_{S_1} + R_{S_2}}\n",
    "\\end{equation}"
   ]
  },
  {
   "cell_type": "markdown",
   "metadata": {},
   "source": [
    "\\begin{equation}\n",
    "e^2_{n_{R_{D_1}}} = 4 k T R_{D_1}\\\\\n",
    "e^2_{n_{R_{D_2}}} = 4 k T R_{D_2}\\\\\n",
    "e^2_{n_{R_{S_1}}} = 4 k T R_{S_1}\\\\\n",
    "e^2_{n_{R_{S_2}}} = 4 k T R_{S_2}\\\\\n",
    "e^2_{n_{R_S}} = e^2_{n_{R_{S_1}}} + e^2_{n_{R_{S_2}}}\\\\\n",
    "e^2_{n_{D_1}} = 4 k T \\gamma \\frac{1}{g_m}\\\\\n",
    "e^2_{n_{D_2}} = 4 k T \\gamma \\frac{1}{g_m}\\\\\n",
    "e^2_n = \\frac{e^2_{n_{D_2}}}{A^2_{v_2}} + \\frac{e^2_{n_{R_{D_2}}}}{A^2_{v_2}} + \\frac{e^2_{n_{R_S}}}{A^2_{v_1}} + \\frac{e^2_{n_{D_1}}}{A^2_{v_1}} + \\frac{e^2_{n_{R_{D_1}}}}{A^2_{v_1}}\n",
    "\\end{equation}"
   ]
  },
  {
   "cell_type": "markdown",
   "metadata": {},
   "source": [
    "__4.b)__"
   ]
  },
  {
   "cell_type": "code",
   "execution_count": 54,
   "metadata": {},
   "outputs": [
    {
     "data": {
      "text/plain": [
       "'g_m 20000.0 A_v 4.999999750000012 e_n 4.60399849497804e-09'"
      ]
     },
     "metadata": {},
     "output_type": "display_data"
    }
   ],
   "source": [
    "k = 1.38e-23    # Boltzmann constant (physical constant)\n",
    "T = 300         # absolute temperature\n",
    "kT = k * T\n",
    "I_tail = 1e-3\n",
    "R_D1 = 10e3\n",
    "R_D2 = 10e3\n",
    "R_S1 = 1e3\n",
    "R_S2 = 1e3\n",
    "g_m_over_I_D = 10\n",
    "gamma = 2/3\n",
    "\n",
    "g_m = g_m_over_I_D * 2 / I_tail\n",
    "A_v = R_D2 / (R_S1 + R_S2 + 2/g_m)\n",
    "A2_v = A_v ** 2\n",
    "\n",
    "e2_n_R_D1 = 4 * kT * R_D1\n",
    "e2_n_R_D2 = 4 * kT * R_D2\n",
    "e2_n_R_S1 = 4 * kT * R_S1\n",
    "e2_n_R_S2 = 4 * kT * R_S2\n",
    "e2_n_R_S = e2_n_R_S1 + e2_n_R_S2\n",
    "e2_n_D_1 = 4 * kT * gamma / g_m\n",
    "e2_n_D_2 = 4 * kT * gamma / g_m\n",
    "\n",
    "e2_n = (e2_n_R_D2 + e2_n_R_D2 + e2_n_R_S + e2_n_D_1 + e2_n_R_D1) / A2_v\n",
    "e_n = np.sqrt(e2_n)\n",
    "\n",
    "display(f'g_m {g_m} A_v {A_v} e_n {e_n}')"
   ]
  },
  {
   "cell_type": "code",
   "execution_count": null,
   "metadata": {},
   "outputs": [],
   "source": []
  }
 ],
 "metadata": {
  "kernelspec": {
   "display_name": "Python 3",
   "language": "python",
   "name": "python3"
  },
  "language_info": {
   "codemirror_mode": {
    "name": "ipython",
    "version": 3
   },
   "file_extension": ".py",
   "mimetype": "text/x-python",
   "name": "python",
   "nbconvert_exporter": "python",
   "pygments_lexer": "ipython3",
   "version": "3.8.5"
  }
 },
 "nbformat": 4,
 "nbformat_minor": 4
}
